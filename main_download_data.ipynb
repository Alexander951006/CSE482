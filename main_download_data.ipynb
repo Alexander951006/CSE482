{
 "cells": [
  {
   "cell_type": "code",
   "execution_count": 1,
   "metadata": {},
   "outputs": [],
   "source": [
    "from urllib.request import urlopen\n",
    "from bs4 import BeautifulSoup\n",
    "import pandas as pd\n",
    "import time\n",
    "\n",
    "start = time.time()\n",
    "import pandas as np\n",
    "\n",
    "\n",
    "\n",
    "col_header = [\"Date\",\"Start(ET)\",\"Visitor/Neutral\",\"PTS\",\"Home/Neutral\",\"PTS\",\"\",\"\",\"Attend\",\"Notes\"]"
   ]
  },
  {
   "cell_type": "code",
   "execution_count": 2,
   "metadata": {},
   "outputs": [
    {
     "name": "stdout",
     "output_type": "stream",
     "text": [
      "good\n",
      "october\n",
      "october 2.29 s\n",
      "good\n",
      "november\n",
      "november 7.23 s\n",
      "good\n",
      "december\n",
      "december 7.06 s\n",
      "good\n",
      "january\n",
      "january 7.27 s\n",
      "good\n",
      "february\n",
      "february 4.13 s\n",
      "good\n",
      "march\n",
      "march 7.42 s\n",
      "good\n",
      "april\n",
      "april 2.88 s\n",
      "good\n",
      "may\n",
      "may 0.41 s\n",
      "good\n",
      "june\n",
      "june 0.08 s\n",
      "The total time used: 79.28 s\n"
     ]
    }
   ],
   "source": [
    "# download data of season 2018-2019\n",
    "months = [\"october\",\"november\",\"december\",\"january\",\"february\",\"march\",\"april\",\"may\",\"june\"]\n",
    "url = \"https://www.basketball-reference.com/leagues/NBA_2019_games-\"\n",
    "NBA_Schedule_and_results = []\n",
    "for month in months:\n",
    "    urls = url + month + \".html\"\n",
    "    sig = 1\n",
    "    while 1 :\n",
    "        try:\n",
    "            html = urlopen(urls)\n",
    "            soup = BeautifulSoup(html,\"lxml\")\n",
    "            print('good')\n",
    "            sig = 0\n",
    "        except Exception as re:\n",
    "            1\n",
    "#             print('bad')\n",
    "        if sig ==0:\n",
    "            break\n",
    "            \n",
    "    start_1 = time.time()\n",
    "    print(month)\n",
    "    for i in range(len(soup.tbody.findAll(\"tr\"))):\n",
    "        Schedule = []\n",
    "        date = soup.tbody.findAll(\"tr\")[i].findAll(\"th\")[0].getText()\n",
    "        Schedule.append(date)\n",
    "        for j in range(len(soup.findAll(\"tr\")[i].findAll(\"td\"))):\n",
    "            data = soup.findAll(\"tr\")[i].findAll(\"td\")[j].getText()\n",
    "            Schedule.append(data)\n",
    "\n",
    "        NBA_Schedule_and_results.append(Schedule)\n",
    "    end_1 = time.time()\n",
    "    print(month,round(end_1 - start_1,2),\"s\")\n",
    "df_2019 = pd.DataFrame(NBA_Schedule_and_results,columns = col_header)\n",
    "\n",
    "end = time.time()\n",
    "print(\"The total time used:\",round(end - start,2),\"s\")\n",
    "df_2019.to_csv(\"NBA_2019_Schedule_and_results.csv\")"
   ]
  },
  {
   "cell_type": "code",
   "execution_count": 3,
   "metadata": {},
   "outputs": [
    {
     "name": "stdout",
     "output_type": "stream",
     "text": [
      "good\n",
      "october\n",
      "october 1.06 s\n",
      "good\n",
      "november\n",
      "november 6.55 s\n",
      "good\n",
      "december\n",
      "december 7.6 s\n",
      "good\n",
      "january\n",
      "january 7.13 s\n",
      "good\n",
      "february\n",
      "february 4.38 s\n",
      "good\n",
      "march\n",
      "march 6.16 s\n",
      "The total time used: 139.16 s\n"
     ]
    }
   ],
   "source": [
    "# download data of season 2019-2020\n",
    "\n",
    "months = [\"october\",\"november\",\"december\",\"january\",\"february\",\"march\"]\n",
    "url = \"https://www.basketball-reference.com/leagues/NBA_2020_games-\"\n",
    "NBA_Schedule_and_results = []\n",
    "for month in months:\n",
    "    urls = url + month + \".html\"\n",
    "    sig = 1\n",
    "    while 1 :\n",
    "        try:\n",
    "            html = urlopen(urls)\n",
    "            soup = BeautifulSoup(html,\"lxml\")\n",
    "            print('good')\n",
    "            sig = 0\n",
    "        except Exception as re:\n",
    "            1\n",
    "#             print('bad')\n",
    "        if sig ==0:\n",
    "            break\n",
    "            \n",
    "    start_1 = time.time()\n",
    "    print(month)\n",
    "    for i in range(len(soup.tbody.findAll(\"tr\"))):\n",
    "        Schedule = []\n",
    "        date = soup.tbody.findAll(\"tr\")[i].findAll(\"th\")[0].getText()\n",
    "        Schedule.append(date)\n",
    "        for j in range(len(soup.findAll(\"tr\")[i].findAll(\"td\"))):\n",
    "            data = soup.findAll(\"tr\")[i].findAll(\"td\")[j].getText()\n",
    "            Schedule.append(data)\n",
    "\n",
    "        NBA_Schedule_and_results.append(Schedule)\n",
    "    end_1 = time.time()\n",
    "    print(month,round(end_1 - start_1,2),\"s\")\n",
    "df_2020 = pd.DataFrame(NBA_Schedule_and_results,columns = col_header)\n",
    "\n",
    "end = time.time()\n",
    "print(\"The total time used:\",round(end - start,2),\"s\")\n",
    "df_2020.to_csv(\"NBA_2020_Schedule_and_results.csv\")"
   ]
  },
  {
   "cell_type": "code",
   "execution_count": 4,
   "metadata": {},
   "outputs": [
    {
     "data": {
      "text/plain": [
       "(2428, 10)"
      ]
     },
     "execution_count": 4,
     "metadata": {},
     "output_type": "execute_result"
    }
   ],
   "source": [
    "df_all = pd.concat([df_2019,df_2020],axis =0)\n",
    "df_all.to_csv('df_all.csv')\n",
    "\n",
    "df_all.shape"
   ]
  },
  {
   "cell_type": "code",
   "execution_count": null,
   "metadata": {},
   "outputs": [],
   "source": []
  }
 ],
 "metadata": {
  "kernelspec": {
   "display_name": "Python 3",
   "language": "python",
   "name": "python3"
  },
  "language_info": {
   "codemirror_mode": {
    "name": "ipython",
    "version": 3
   },
   "file_extension": ".py",
   "mimetype": "text/x-python",
   "name": "python",
   "nbconvert_exporter": "python",
   "pygments_lexer": "ipython3",
   "version": "3.7.3"
  }
 },
 "nbformat": 4,
 "nbformat_minor": 2
}
